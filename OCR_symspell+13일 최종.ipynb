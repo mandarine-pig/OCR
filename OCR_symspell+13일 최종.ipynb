{
 "cells": [
  {
   "cell_type": "markdown",
   "metadata": {
    "id": "obtiOWPfiKGI"
   },
   "source": [
    "# SymSpell"
   ]
  },
  {
   "cell_type": "code",
   "execution_count": 1,
   "metadata": {
    "colab": {
     "base_uri": "https://localhost:8080/"
    },
    "executionInfo": {
     "elapsed": 4602,
     "status": "ok",
     "timestamp": 1610504463852,
     "user": {
      "displayName": "[20_HP009]최석원",
      "photoUrl": "",
      "userId": "08153998993554780750"
     },
     "user_tz": -540
    },
    "id": "AluQqq7FiKGO",
    "outputId": "78b4d50d-f30f-411c-99e2-d5940a0d19e0"
   },
   "outputs": [],
   "source": [
    "import pandas as pd\n",
    "from os import path\n",
    "from symspellpy import SymSpell, Verbosity\n",
    "from symspellpy.helpers import DictIO"
   ]
  },
  {
   "cell_type": "code",
   "execution_count": 2,
   "metadata": {
    "colab": {
     "base_uri": "https://localhost:8080/",
     "height": 77,
     "resources": {
      "http://localhost:8080/nbextensions/google.colab/files.js": {
       "data": "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",
       "headers": [
        [
         "content-type",
         "application/javascript"
        ]
       ],
       "ok": true,
       "status": 200,
       "status_text": ""
      }
     }
    },
    "executionInfo": {
     "elapsed": 9437,
     "status": "ok",
     "timestamp": 1610504773541,
     "user": {
      "displayName": "[20_HP009]최석원",
      "photoUrl": "",
      "userId": "08153998993554780750"
     },
     "user_tz": -540
    },
    "id": "Ldo9CcC-iKGP",
    "outputId": "71439204-8941-4bb1-a95c-1536d6507bce"
   },
   "outputs": [],
   "source": [
    "# csv to list\n",
    "data = pd.read_csv('dataset_word.csv')\n",
    "\n",
    "val_list = data.values.tolist()\n",
    "\n",
    "train_words = []\n",
    "for word in val_list :\n",
    "    train_words.append(word[0])\n",
    "\n",
    "# list to dictionary\n",
    "word_dict = {word: 1 for word in train_words}"
   ]
  },
  {
   "cell_type": "code",
   "execution_count": 3,
   "metadata": {
    "colab": {
     "base_uri": "https://localhost:8080/"
    },
    "executionInfo": {
     "elapsed": 1582,
     "status": "ok",
     "timestamp": 1610504778127,
     "user": {
      "displayName": "[20_HP009]최석원",
      "photoUrl": "",
      "userId": "08153998993554780750"
     },
     "user_tz": -540
    },
    "id": "v4OKGGGTiKGP",
    "outputId": "f3208389-2e7e-4019-c493-9a249715616c"
   },
   "outputs": [],
   "source": [
    "sym_spell = SymSpell(max_dictionary_edit_distance=6, prefix_length=7)\n",
    "dict_stream = DictIO(word_dict)             # SymSpell용으로 딕셔너리 형태 변환\n",
    "\n",
    "if not path.exists(\"symspell.pickle\") : \n",
    "    sym_spell.load_dictionary_stream(dict_stream, 0, 1)\n",
    "    sym_spell.save_pickle('symspell.pickle')\n",
    "    print(\"pickle created!\")\n",
    "else : \n",
    "    sym_spell.load_pickle('symspell.pickle')"
   ]
  },
  {
   "cell_type": "code",
   "execution_count": 4,
   "metadata": {
    "colab": {
     "base_uri": "https://localhost:8080/"
    },
    "executionInfo": {
     "elapsed": 1217,
     "status": "ok",
     "timestamp": 1610504781387,
     "user": {
      "displayName": "[20_HP009]최석원",
      "photoUrl": "",
      "userId": "08153998993554780750"
     },
     "user_tz": -540
    },
    "id": "1LXFy_g7iKGQ",
    "outputId": "e14996ac-3ed1-41df-d6d3-59ec3d753962"
   },
   "outputs": [
    {
     "name": "stdout",
     "output_type": "stream",
     "text": [
      "크동\n",
      "동, 1, 1\n",
      "크롬, 1, 1\n"
     ]
    }
   ],
   "source": [
    "input_term = input()\n",
    "\n",
    "suggestions = sym_spell.lookup(input_term, Verbosity.CLOSEST, max_edit_distance=6)\n",
    "for suggestion in suggestions:\n",
    "    print(suggestion)"
   ]
  },
  {
   "cell_type": "code",
   "execution_count": 5,
   "metadata": {
    "executionInfo": {
     "elapsed": 1369,
     "status": "ok",
     "timestamp": 1610504784458,
     "user": {
      "displayName": "[20_HP009]최석원",
      "photoUrl": "",
      "userId": "08153998993554780750"
     },
     "user_tz": -540
    },
    "id": "Q8cQOr7-iKGR"
   },
   "outputs": [],
   "source": [
    "suggestion_list = []\n",
    "for suggestion in suggestions :\n",
    "    suggestion_list.append(suggestion.term)"
   ]
  },
  {
   "cell_type": "code",
   "execution_count": 6,
   "metadata": {
    "colab": {
     "base_uri": "https://localhost:8080/"
    },
    "executionInfo": {
     "elapsed": 1306,
     "status": "ok",
     "timestamp": 1610504788057,
     "user": {
      "displayName": "[20_HP009]최석원",
      "photoUrl": "",
      "userId": "08153998993554780750"
     },
     "user_tz": -540
    },
    "id": "dNVfHyN8iKGR",
    "outputId": "0e90d72d-32fd-42ba-85d2-a3b2bae4ceb9"
   },
   "outputs": [
    {
     "data": {
      "text/plain": [
       "['동', '크롬']"
      ]
     },
     "execution_count": 6,
     "metadata": {},
     "output_type": "execute_result"
    }
   ],
   "source": [
    "suggestion_list"
   ]
  },
  {
   "cell_type": "markdown",
   "metadata": {
    "id": "vvbyyBLliKGR"
   },
   "source": [
    "# 자음모음 분리\n",
    "- 입력과 후보 단어의 길이 같을 때만 판단 가능"
   ]
  },
  {
   "cell_type": "code",
   "execution_count": 7,
   "metadata": {
    "id": "iSjH3YD0iKGS"
   },
   "outputs": [],
   "source": [
    "from jamo import h2j, j2hcj"
   ]
  },
  {
   "cell_type": "code",
   "execution_count": 8,
   "metadata": {
    "id": "wkQgLLxxiKGS",
    "outputId": "cc984f12-0b05-46e7-dd78-3036faabbb88"
   },
   "outputs": [
    {
     "name": "stdout",
     "output_type": "stream",
     "text": [
      "['ㄷㅗㅇ', 'ㅋㅡ', 'ㄹㅗㅁ']\n",
      "3\n"
     ]
    }
   ],
   "source": [
    "# 자음 모음 받침 나누고 리스트로\n",
    "j_list = []\n",
    "\n",
    "if len(suggestion_list) == 1:\n",
    "    print(suggestion_list[0])\n",
    "\n",
    "else:\n",
    "    cnt_suggestion = len(suggestion_list)\n",
    "    for i in range(cnt_suggestion):\n",
    "        for j in range(len(suggestion_list[i])):\n",
    "            j_data= j2hcj(h2j(suggestion_list[i][j]))\n",
    "            j_list.append(j_data)\n",
    "    \n",
    "print(j_list)\n",
    "print(len(j_list[0]))"
   ]
  },
  {
   "cell_type": "code",
   "execution_count": 9,
   "metadata": {
    "id": "Tt1yrBaGiKGS",
    "outputId": "e50a9bcc-5687-414b-d7cb-0e14b09612c2"
   },
   "outputs": [
    {
     "name": "stdout",
     "output_type": "stream",
     "text": [
      "input_phone: ㅋ suggest_phone: ㄷ\n",
      "input_phone: ㅡ suggest_phone: ㅗ\n",
      "1 1\n",
      "초기화\n",
      "input_phone: ㅋ suggest_phone: ㅋ\n",
      "input_phone: ㅡ suggest_phone: ㅡ\n",
      "1 2\n",
      "input_phone: ㄷ suggest_phone: ㄹ\n",
      "input_phone: ㅗ suggest_phone: ㅗ\n",
      "input_phone: ㅇ suggest_phone: ㅁ\n",
      "2 2\n",
      "초기화\n",
      "all checked\n",
      "[2, -1]\n"
     ]
    }
   ],
   "source": [
    "# input 단어와 비교\n",
    "\n",
    "j_input_list = []\n",
    "hamming_val = 0\n",
    "hamming_list = []\n",
    "\n",
    "\n",
    "for i in range(len(input_term)):\n",
    "    j_input = j2hcj(h2j(input_term[i]))\n",
    "    j_input_list.append(j_input)\n",
    "\n",
    "cnt_j_list = len(j_list)\n",
    "\n",
    "check = 0\n",
    "tmp = 0\n",
    "s = 0\n",
    "\n",
    "\n",
    "i = 0\n",
    "while(True):\n",
    "    if i == cnt_j_list:\n",
    "        break\n",
    "        \n",
    "    input_sylla = j_input_list[tmp]\n",
    "    suggest_sylla = j_list[i]\n",
    "    \n",
    "    if len(input_sylla) + len(suggest_sylla) < 6 :\n",
    "        r = 2\n",
    "    else:\n",
    "        r = 3\n",
    "        \n",
    "        \n",
    "    for j in range(r):\n",
    "        input_phone = j_input_list[tmp][j]\n",
    "        suggest_phone = j_list[i][j]\n",
    "        print(\"input_phone:\",input_phone, \"suggest_phone:\", suggest_phone)\n",
    "        \n",
    "        if input_phone == suggest_phone:\n",
    "            hamming_val -= 1\n",
    "        else:\n",
    "            hamming_val += 1\n",
    "            \n",
    "    check += 1\n",
    "    tmp += 1\n",
    "    i += 1\n",
    "    \n",
    "    print(tmp, len(suggestion_list[s]))\n",
    "    \n",
    "    if check == len(suggestion_list[s]) or tmp == len(input_term):  # 초기화 기준이 input단어 길이임\n",
    "        \n",
    "        if len(input_term) < len(suggestion_list[s]):\n",
    "            i+= len(suggestion_list[s]) - len(input_term)\n",
    "        hamming_list.append(hamming_val)\n",
    "        hamming_val = 0\n",
    "        check = 0\n",
    "        tmp = 0\n",
    "        s += 1\n",
    "        print(\"초기화\")\n",
    "        \n",
    "    if(s+1 > len(suggestion_list)) :\n",
    "        print(\"all checked\")\n",
    "        break\n",
    "\n",
    "print(hamming_list)"
   ]
  },
  {
   "cell_type": "code",
   "execution_count": 10,
   "metadata": {},
   "outputs": [
    {
     "name": "stdout",
     "output_type": "stream",
     "text": [
      "['ㅋㅡ', 'ㄷㅗㅇ']\n",
      "['ㄷㅗㅇ', 'ㅋㅡ', 'ㄹㅗㅁ']\n"
     ]
    }
   ],
   "source": [
    "print(j_input_list)\n",
    "print(j_list)"
   ]
  },
  {
   "cell_type": "code",
   "execution_count": 11,
   "metadata": {
    "id": "2LyehxEbiKGT",
    "outputId": "10e34e2f-bbfe-4dba-ab98-036764c7cab8"
   },
   "outputs": [
    {
     "name": "stdout",
     "output_type": "stream",
     "text": [
      "[2, -1]\n",
      "크롬\n"
     ]
    }
   ],
   "source": [
    "count_fmhd = len(hamming_list)\n",
    "min_2 = 100\n",
    "check_i = 0\n",
    "for i in range(count_fmhd):\n",
    "    if hamming_list[i] < min_2:\n",
    "        min_2 = hamming_list[i]\n",
    "        check_i = i\n",
    "print(hamming_list)\n",
    "print(suggestion_list[check_i])"
   ]
  }
 ],
 "metadata": {
  "accelerator": "GPU",
  "colab": {
   "name": "OCR_symspell+hm.ipynb",
   "provenance": []
  },
  "kernelspec": {
   "display_name": "Python 3",
   "language": "python",
   "name": "python3"
  },
  "language_info": {
   "codemirror_mode": {
    "name": "ipython",
    "version": 3
   },
   "file_extension": ".py",
   "mimetype": "text/x-python",
   "name": "python",
   "nbconvert_exporter": "python",
   "pygments_lexer": "ipython3",
   "version": "3.8.3"
  }
 },
 "nbformat": 4,
 "nbformat_minor": 1
}
